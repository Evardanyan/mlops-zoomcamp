{
 "cells": [
  {
   "cell_type": "code",
   "execution_count": 3,
   "id": "b06d0310",
   "metadata": {},
   "outputs": [],
   "source": [
    "import pandas as pd\n",
    "import numpy as np"
   ]
  },
  {
   "cell_type": "code",
   "execution_count": 4,
   "id": "c0a7f19f",
   "metadata": {},
   "outputs": [],
   "source": [
    "from sklearn.linear_model import LinearRegression\n",
    "from sklearn.metrics import mean_squared_error\n",
    "from sklearn.metrics import mean_squared_error\n"
   ]
  },
  {
   "cell_type": "code",
   "execution_count": 5,
   "id": "207377ab",
   "metadata": {},
   "outputs": [],
   "source": [
    "df = pd.read_parquet('./yellow_tripdata_2023-01.parquet')"
   ]
  },
  {
   "cell_type": "code",
   "execution_count": 6,
   "id": "43195612",
   "metadata": {},
   "outputs": [
    {
     "data": {
      "text/plain": [
       "19"
      ]
     },
     "execution_count": 6,
     "metadata": {},
     "output_type": "execute_result"
    }
   ],
   "source": [
    "len(df.columns)"
   ]
  },
  {
   "cell_type": "markdown",
   "id": "dcf546c1",
   "metadata": {},
   "source": [
    "**✅ The number of columns in the dataset is 19.**"
   ]
  },
  {
   "cell_type": "code",
   "execution_count": 7,
   "id": "bd6a7d92",
   "metadata": {},
   "outputs": [],
   "source": [
    "#df"
   ]
  },
  {
   "cell_type": "code",
   "execution_count": 8,
   "id": "44bcd924",
   "metadata": {},
   "outputs": [
    {
     "name": "stdout",
     "output_type": "stream",
     "text": [
      "Standard Deviation of Trip Durations: 42.601\n"
     ]
    }
   ],
   "source": [
    "df['tpep_pickup_datetime'] = pd.to_datetime(df['tpep_pickup_datetime'])\n",
    "df['tpep_dropoff_datetime'] = pd.to_datetime(df['tpep_dropoff_datetime'])\n",
    "\n",
    "df['duration'] = (df['tpep_dropoff_datetime'] - df['tpep_pickup_datetime']).dt.total_seconds() / 60\n",
    "\n",
    "df = df[df['duration'] > 0]\n",
    "\n",
    "std_duration = df['duration'].std()\n",
    "\n",
    "print(f\"Standard Deviation of Trip Durations: {round(std_duration, 3)}\")"
   ]
  },
  {
   "cell_type": "markdown",
   "id": "1b6b0722",
   "metadata": {},
   "source": [
    "**✅ Standard Deviation of Trip Durations: 42.601.**"
   ]
  },
  {
   "cell_type": "code",
   "execution_count": 9,
   "id": "05c3d1fa",
   "metadata": {},
   "outputs": [
    {
     "name": "stdout",
     "output_type": "stream",
     "text": [
      "Fraction of records left: 98.16%\n"
     ]
    }
   ],
   "source": [
    "initial_count = len(df)\n",
    "\n",
    "df_filtered = df[(df['duration'] >= 1) & (df['duration'] <= 60)]\n",
    "\n",
    "filtered_count = len(df_filtered)\n",
    "\n",
    "fraction = filtered_count / initial_count\n",
    "\n",
    "print(f\"Fraction of records left: {round(fraction * 100, 2)}%\")"
   ]
  },
  {
   "cell_type": "markdown",
   "id": "ff01abd2",
   "metadata": {},
   "source": [
    "**✅ Fraction of records left: 98.16%.**"
   ]
  },
  {
   "cell_type": "code",
   "execution_count": 10,
   "id": "a83cdd10",
   "metadata": {},
   "outputs": [],
   "source": [
    "df_enc = df_filtered[['PULocationID', 'DOLocationID']].copy()\n",
    "\n",
    "df_enc['PULocationID'] = df_enc['PULocationID'].astype(str)\n",
    "df_enc['DOLocationID'] = df_enc['DOLocationID'].astype(str)\n",
    "\n",
    "dicts = df_enc.to_dict(orient='records')\n",
    "\n"
   ]
  },
  {
   "cell_type": "code",
   "execution_count": 11,
   "id": "d656a384",
   "metadata": {},
   "outputs": [],
   "source": [
    "from sklearn.feature_extraction import DictVectorizer\n",
    "\n",
    "dv = DictVectorizer()\n",
    "X = dv.fit_transform(dicts)"
   ]
  },
  {
   "cell_type": "code",
   "execution_count": 12,
   "id": "6de24840",
   "metadata": {},
   "outputs": [
    {
     "data": {
      "text/plain": [
       "(3009173, 515)"
      ]
     },
     "execution_count": 12,
     "metadata": {},
     "output_type": "execute_result"
    }
   ],
   "source": [
    "X.shape"
   ]
  },
  {
   "cell_type": "markdown",
   "id": "82fceaad",
   "metadata": {},
   "source": [
    "**✅ number of columns 515.**"
   ]
  },
  {
   "cell_type": "code",
   "execution_count": 13,
   "id": "fe237a8e",
   "metadata": {},
   "outputs": [
    {
     "name": "stdout",
     "output_type": "stream",
     "text": [
      "RMSE: 7.65\n"
     ]
    }
   ],
   "source": [
    "y = df_filtered['duration']\n",
    "\n",
    "model = LinearRegression()\n",
    "model.fit(X, y)\n",
    "\n",
    "y_pred = model.predict(X)\n",
    "\n",
    "rmse = mean_squared_error(y, y_pred, squared=False)\n",
    "print(f\"RMSE: {round(rmse, 2)}\")"
   ]
  },
  {
   "cell_type": "markdown",
   "id": "29f29593",
   "metadata": {},
   "source": [
    "**✅ RMSE is 7.65.**"
   ]
  },
  {
   "cell_type": "code",
   "execution_count": 14,
   "id": "04113ead",
   "metadata": {},
   "outputs": [],
   "source": [
    "df_val = pd.read_parquet('yellow_tripdata_2023-02.parquet')\n",
    "\n",
    "df_val['tpep_pickup_datetime'] = pd.to_datetime(df_val['tpep_pickup_datetime'])\n",
    "df_val['tpep_dropoff_datetime'] = pd.to_datetime(df_val['tpep_dropoff_datetime'])\n",
    "\n",
    "df_val['duration'] = (df_val['tpep_dropoff_datetime'] - df_val['tpep_pickup_datetime']).dt.total_seconds() / 60\n",
    "\n",
    "df_val = df_val[(df_val['duration'] >= 1) & (df_val['duration'] <= 60)]"
   ]
  },
  {
   "cell_type": "code",
   "execution_count": 15,
   "id": "df1e2d52",
   "metadata": {},
   "outputs": [],
   "source": [
    "df_val_enc = df_val[['PULocationID', 'DOLocationID']].copy()\n",
    "df_val_enc['PULocationID'] = df_val_enc['PULocationID'].astype(str)\n",
    "df_val_enc['DOLocationID'] = df_val_enc['DOLocationID'].astype(str)\n",
    "\n",
    "dicts_val = df_val_enc.to_dict(orient='records')"
   ]
  },
  {
   "cell_type": "code",
   "execution_count": 16,
   "id": "1b9e9fc5",
   "metadata": {},
   "outputs": [],
   "source": [
    "X_val = dv.transform(dicts_val)\n",
    "\n",
    "y_val = df_val['duration']\n",
    "y_pred = model.predict(X_val)"
   ]
  },
  {
   "cell_type": "code",
   "execution_count": 17,
   "id": "a031fd29",
   "metadata": {},
   "outputs": [
    {
     "name": "stdout",
     "output_type": "stream",
     "text": [
      "Validation RMSE: 7.81\n"
     ]
    }
   ],
   "source": [
    "rmse_val = mean_squared_error(y_val, y_pred, squared=False)\n",
    "\n",
    "print(f\"Validation RMSE: {round(rmse_val, 2)}\")"
   ]
  },
  {
   "cell_type": "markdown",
   "id": "a9777544",
   "metadata": {},
   "source": [
    "**✅ Validation RMSE: 7.81.**"
   ]
  },
  {
   "cell_type": "code",
   "execution_count": null,
   "id": "0013a63f",
   "metadata": {},
   "outputs": [],
   "source": []
  }
 ],
 "metadata": {
  "kernelspec": {
   "display_name": "Python 3 (ipykernel)",
   "language": "python",
   "name": "python3"
  },
  "language_info": {
   "codemirror_mode": {
    "name": "ipython",
    "version": 3
   },
   "file_extension": ".py",
   "mimetype": "text/x-python",
   "name": "python",
   "nbconvert_exporter": "python",
   "pygments_lexer": "ipython3",
   "version": "3.9.12"
  }
 },
 "nbformat": 4,
 "nbformat_minor": 5
}
